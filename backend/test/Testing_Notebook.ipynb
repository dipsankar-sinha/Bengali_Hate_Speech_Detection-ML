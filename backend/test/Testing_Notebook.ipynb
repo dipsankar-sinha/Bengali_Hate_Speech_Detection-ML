{
 "cells": [
  {
   "cell_type": "code",
   "execution_count": 31,
   "id": "7a7e9bc8-4f74-48c8-a714-1197f5de7bde",
   "metadata": {},
   "outputs": [
    {
     "name": "stdout",
     "output_type": "stream",
     "text": [
      "{'Hate': '1'}\n"
     ]
    }
   ],
   "source": [
    "import requests\n",
    "\n",
    "# Define the URI and the WAV file path\n",
    "uri = \"http://127.0.0.1:5000/process_input\"\n",
    "file_path = r\"C:\\Users\\dipsa\\Downloads\\demo2.wav\"  # Change to the new WAV file\n",
    "\n",
    "# Open the WAV file in binary mode and prepare the multipart form data\n",
    "with open(file_path, 'rb') as file:\n",
    "    files = {'file': (file_path.split('\\\\')[-1], file, 'audio/wav')}\n",
    "    \n",
    "    # Send the POST request\n",
    "    response = requests.post(uri, files=files)\n",
    "\n",
    "# Read and display the response\n",
    "print(response.json())"
   ]
  },
  {
   "cell_type": "code",
   "execution_count": 27,
   "id": "71edc338",
   "metadata": {},
   "outputs": [
    {
     "name": "stdout",
     "output_type": "stream",
     "text": [
      "{'Hate': '0'}\n"
     ]
    }
   ],
   "source": [
    "import requests\n",
    "import json\n",
    "\n",
    "\n",
    "# Define the URI and the WAV file path\n",
    "uri = \"http://127.0.0.1:5000/detect\"\n",
    "text = 'যদি তুমি বাংলা শব্দ বলতে চাও সেটা ভালোভাবে ভুঝতে পারবে।'  \n",
    "\n",
    "response = requests.post(uri, json={'transcription': text})\n",
    "\n",
    "# Read and display the response\n",
    "print(response.json())"
   ]
  },
  {
   "cell_type": "code",
   "execution_count": 1,
   "id": "b3fe8ea2",
   "metadata": {},
   "outputs": [
    {
     "name": "stdout",
     "output_type": "stream",
     "text": [
      "Recording...\n",
      "Recording complete.\n",
      "{'transcription': 'তুমি কেমন আছো।'}\n"
     ]
    }
   ],
   "source": [
    "import requests\n",
    "import sounddevice as sd\n",
    "import numpy as np\n",
    "import wavio\n",
    "\n",
    "# Set parameters\n",
    "duration = 5  # seconds\n",
    "sample_rate = 16000  # Sample rate for your model\n",
    "\n",
    "# Record audio from microphone\n",
    "print(\"Recording...\")\n",
    "audio_data = sd.rec(int(duration * sample_rate), samplerate=sample_rate, channels=1, dtype='int16')\n",
    "sd.wait()  # Wait until recording is finished\n",
    "print(\"Recording complete.\")\n",
    "\n",
    "# Save the recorded audio to a WAV file\n",
    "file_path = \"recorded_audio.wav\"\n",
    "wavio.write(file_path, audio_data, sample_rate, sampwidth=2)  # 2 bytes for int16\n",
    "\n",
    "# Define the URI for the Flask API\n",
    "uri = \"http://127.0.0.1:5000/transcribe\"\n",
    "\n",
    "# Open the recorded WAV file in binary mode and prepare the multipart form data\n",
    "with open(file_path, 'rb') as file:\n",
    "    files = {'file': (file_path.split('/')[-1], file, 'audio/wav')}\n",
    "    \n",
    "    # Send the POST request\n",
    "    response = requests.post(uri, files=files)\n",
    "\n",
    "# Read and display the response\n",
    "print(response.json())\n"
   ]
  },
  {
   "cell_type": "code",
   "execution_count": 4,
   "id": "23af0b80",
   "metadata": {},
   "outputs": [
    {
     "name": "stdout",
     "output_type": "stream",
     "text": [
      "Recording...\n",
      "Recording complete.\n",
      "Response JSON: {'transcription': 'তুই হচ্ছিস আস্তো একটা সুোরের বাচ্চা।'}\n"
     ]
    }
   ],
   "source": [
    "import requests\n",
    "import sounddevice as sd\n",
    "import numpy as np\n",
    "import wavio\n",
    "\n",
    "# Set parameters\n",
    "duration = 10  # seconds\n",
    "sample_rate = 16000  # Sample rate for your model\n",
    "\n",
    "# Record audio from microphone\n",
    "print(\"Recording...\")\n",
    "audio_data = sd.rec(int(duration * sample_rate), samplerate=sample_rate, channels=1, dtype='int16')\n",
    "sd.wait()  # Wait until recording is finished\n",
    "print(\"Recording complete.\")\n",
    "\n",
    "# Save the recorded audio to a WAV file\n",
    "file_path = \"recorded_audio.wav\"\n",
    "wavio.write(file_path, audio_data, sample_rate, sampwidth=2)  # 2 bytes for int16\n",
    "\n",
    "# Define the URI for the Flask API\n",
    "uri = \"http://127.0.0.1:5000/transcribe\"\n",
    "\n",
    "# Open the recorded WAV file in binary mode and prepare the multipart form data\n",
    "with open(file_path, 'rb') as file:\n",
    "    files = {'file': (file_path.split('/')[-1], file, 'audio/wav')}\n",
    "    \n",
    "    # Send the POST request\n",
    "    response = requests.post(uri, files=files)\n",
    "\n",
    "# Read and display the response\n",
    "try:\n",
    "    response_json = response.json()\n",
    "    print(\"Response JSON:\", response_json)\n",
    "except ValueError as e:\n",
    "    print(\"Error parsing JSON:\", e)\n",
    "    print(\"Raw response text:\", response.text)\n"
   ]
  },
  {
   "cell_type": "code",
   "execution_count": null,
   "id": "546077eb",
   "metadata": {},
   "outputs": [
    {
     "name": "stdout",
     "output_type": "stream",
     "text": [
      "{'transcription': 'যদি তুমি বাংলা শব্দ বলতে চাঁও সেটাও ভালোভাবে ভুঝতে পারবে।'}\n"
     ]
    }
   ],
   "source": [
    "import requests\n",
    "\n",
    "# Define the URI and the WAV file path\n",
    "uri = \"http://127.0.0.1:5000/transcribe\"\n",
    "file_path = r\"C:\\Users\\dipsa\\Downloads\\demo.wav\"  # Change to the new WAV file\n",
    "\n",
    "# Open the WAV file in binary mode and prepare the multipart form data\n",
    "with open(file_path, 'rb') as file:\n",
    "    files = {'file': (file_path.split('\\\\')[-1], file, 'audio/wav')}\n",
    "    \n",
    "    # Send the POST request\n",
    "    response = requests.post(uri, files=files)\n",
    "\n",
    "# Read and display the response\n",
    "print(response.json())"
   ]
  },
  {
   "cell_type": "code",
   "execution_count": null,
   "id": "0b249209",
   "metadata": {},
   "outputs": [],
   "source": [
    "import pickle\n",
    "with open(\"C:\\\\Users\\\\dipsa\\\\Projects\\\\Bengali Hate Speech Detection\\\\backend\\\\model\\\\hate_speech_detector\\\\Logistic Regression_model.pkl\", \"rb\") as f:\n",
    "    model = pickle.load(f)"
   ]
  },
  {
   "cell_type": "code",
   "execution_count": null,
   "id": "40c2d449",
   "metadata": {},
   "outputs": [
    {
     "data": {
      "text/html": [
       "<div>\n",
       "<style scoped>\n",
       "    .dataframe tbody tr th:only-of-type {\n",
       "        vertical-align: middle;\n",
       "    }\n",
       "\n",
       "    .dataframe tbody tr th {\n",
       "        vertical-align: top;\n",
       "    }\n",
       "\n",
       "    .dataframe thead th {\n",
       "        text-align: right;\n",
       "    }\n",
       "</style>\n",
       "<table border=\"1\" class=\"dataframe\">\n",
       "  <thead>\n",
       "    <tr style=\"text-align: right;\">\n",
       "      <th></th>\n",
       "      <th>sentence</th>\n",
       "      <th>hate</th>\n",
       "      <th>transformed_text</th>\n",
       "      <th>ReviewLength</th>\n",
       "      <th>SentenceLength</th>\n",
       "    </tr>\n",
       "  </thead>\n",
       "  <tbody>\n",
       "    <tr>\n",
       "      <th>0</th>\n",
       "      <td>সবা ছবির শ্যুটিং দেখত</td>\n",
       "      <td>0</td>\n",
       "      <td>সব ছবর শযট দখত</td>\n",
       "      <td>4</td>\n",
       "      <td>4</td>\n",
       "    </tr>\n",
       "    <tr>\n",
       "      <th>1</th>\n",
       "      <td>আমির হামজা একজন সত্যি খাঠি আলেম</td>\n",
       "      <td>0</td>\n",
       "      <td>আমর হমজ একজন সতয খঠ আলম</td>\n",
       "      <td>6</td>\n",
       "      <td>6</td>\n",
       "    </tr>\n",
       "    <tr>\n",
       "      <th>2</th>\n",
       "      <td>বিল পাশ করানে দরক</td>\n",
       "      <td>0</td>\n",
       "      <td>বল পশ করন দরক</td>\n",
       "      <td>4</td>\n",
       "      <td>4</td>\n",
       "    </tr>\n",
       "    <tr>\n",
       "      <th>3</th>\n",
       "      <td>কাফের সাথে কথা নিজে ছোট দরক</td>\n",
       "      <td>1</td>\n",
       "      <td>কফর সথ কথ নজ ছট দরক</td>\n",
       "      <td>6</td>\n",
       "      <td>6</td>\n",
       "    </tr>\n",
       "    <tr>\n",
       "      <th>4</th>\n",
       "      <td>জিবনে কখনো সিনেমা সিনেমা দেখিনিতা গত বছরে খাল...</td>\n",
       "      <td>0</td>\n",
       "      <td>জবন কখন সনম সনম দখনত গত বছর খলত ভইয দদবড মঠবডয...</td>\n",
       "      <td>42</td>\n",
       "      <td>42</td>\n",
       "    </tr>\n",
       "    <tr>\n",
       "      <th>...</th>\n",
       "      <td>...</td>\n",
       "      <td>...</td>\n",
       "      <td>...</td>\n",
       "      <td>...</td>\n",
       "      <td>...</td>\n",
       "    </tr>\n",
       "    <tr>\n",
       "      <th>14759</th>\n",
       "      <td>শালা পাছায় জুত বারে</td>\n",
       "      <td>1</td>\n",
       "      <td>শল পছয জত বর</td>\n",
       "      <td>4</td>\n",
       "      <td>4</td>\n",
       "    </tr>\n",
       "    <tr>\n",
       "      <th>14760</th>\n",
       "      <td>আল্লাহ্ মাফ কর হয়তো পাপ কারনে পিত অসম্মান হল...</td>\n",
       "      <td>0</td>\n",
       "      <td>আললহ মফ কর হযত পপ করন পত অসমমন হল চখ দখ বড শসত</td>\n",
       "      <td>13</td>\n",
       "      <td>13</td>\n",
       "    </tr>\n",
       "    <tr>\n",
       "      <th>14761</th>\n",
       "      <td>বাল ইডিটর</td>\n",
       "      <td>1</td>\n",
       "      <td>বল ইডটর</td>\n",
       "      <td>2</td>\n",
       "      <td>2</td>\n",
       "    </tr>\n",
       "    <tr>\n",
       "      <th>14762</th>\n",
       "      <td>আ আ আ লেখ কোনো ভাসাখুজে পেলামনা</td>\n",
       "      <td>0</td>\n",
       "      <td>আ আ আ লখ কন ভসখজ পলমন</td>\n",
       "      <td>7</td>\n",
       "      <td>7</td>\n",
       "    </tr>\n",
       "    <tr>\n",
       "      <th>14763</th>\n",
       "      <td>অডিশন লাভ কার পাশ অর বেছ নিয় অই দারিওয়ালাটা ...</td>\n",
       "      <td>0</td>\n",
       "      <td>অডশন লভ কর পশ অর বছ নয অই দরওযলট হ হআগ আচরণ কর...</td>\n",
       "      <td>15</td>\n",
       "      <td>15</td>\n",
       "    </tr>\n",
       "  </tbody>\n",
       "</table>\n",
       "<p>14764 rows × 5 columns</p>\n",
       "</div>"
      ],
      "text/plain": [
       "                                                sentence  hate  \\\n",
       "0                                  সবা ছবির শ্যুটিং দেখত     0   \n",
       "1                        আমির হামজা একজন সত্যি খাঠি আলেম     0   \n",
       "2                                      বিল পাশ করানে দরক     0   \n",
       "3                           কাফের সাথে কথা নিজে ছোট দরক     1   \n",
       "4      জিবনে কখনো সিনেমা সিনেমা দেখিনিতা গত বছরে খাল...     0   \n",
       "...                                                  ...   ...   \n",
       "14759                               শালা পাছায় জুত বারে     1   \n",
       "14760  আল্লাহ্ মাফ কর হয়তো পাপ কারনে পিত অসম্মান হল...     0   \n",
       "14761                                          বাল ইডিটর     1   \n",
       "14762                  আ আ আ লেখ কোনো ভাসাখুজে পেলামনা     0   \n",
       "14763  অডিশন লাভ কার পাশ অর বেছ নিয় অই দারিওয়ালাটা ...     0   \n",
       "\n",
       "                                        transformed_text  ReviewLength  \\\n",
       "0                                         সব ছবর শযট দখত             4   \n",
       "1                                আমর হমজ একজন সতয খঠ আলম             6   \n",
       "2                                          বল পশ করন দরক             4   \n",
       "3                                    কফর সথ কথ নজ ছট দরক             6   \n",
       "4      জবন কখন সনম সনম দখনত গত বছর খলত ভইয দদবড মঠবডয...            42   \n",
       "...                                                  ...           ...   \n",
       "14759                                       শল পছয জত বর             4   \n",
       "14760     আললহ মফ কর হযত পপ করন পত অসমমন হল চখ দখ বড শসত            13   \n",
       "14761                                            বল ইডটর             2   \n",
       "14762                              আ আ আ লখ কন ভসখজ পলমন             7   \n",
       "14763  অডশন লভ কর পশ অর বছ নয অই দরওযলট হ হআগ আচরণ কর...            15   \n",
       "\n",
       "       SentenceLength  \n",
       "0                   4  \n",
       "1                   6  \n",
       "2                   4  \n",
       "3                   6  \n",
       "4                  42  \n",
       "...               ...  \n",
       "14759               4  \n",
       "14760              13  \n",
       "14761               2  \n",
       "14762               7  \n",
       "14763              15  \n",
       "\n",
       "[14764 rows x 5 columns]"
      ]
     },
     "execution_count": 22,
     "metadata": {},
     "output_type": "execute_result"
    }
   ],
   "source": [
    "import pandas as pd \n",
    "train = pd.read_csv(\"C:\\\\Users\\\\dipsa\\\\Projects\\\\Bengali Hate Speech Detection\\\\backend\\\\Bengali_hate_speech_dataset\\\\Final\\\\final_train_data.csv\")\n",
    "df = pd.read_csv(\"C:\\\\Users\\\\dipsa\\\\Projects\\\\Bengali Hate Speech Detection\\\\backend\\\\Bengali_hate_speech_dataset\\\\Final\\\\final_test_data.csv\")\n",
    "df"
   ]
  },
  {
   "cell_type": "code",
   "execution_count": null,
   "id": "454a60fc",
   "metadata": {},
   "outputs": [],
   "source": [
    "import pickle\n",
    "with open(\"C:\\\\Users\\\\dipsa\\\\Projects\\\\Bengali Hate Speech Detection\\\\backend\\\\model\\\\hate_speech_detector\\\\vectorizer.pkl\", \"rb\") as f:\n",
    "    vectorizer = pickle.load(f)\n",
    "x_test = vectorizer.transform(df[\"transformed_text\"]).toarray()\n",
    "y_test = df[\"hate\"]"
   ]
  },
  {
   "cell_type": "code",
   "execution_count": null,
   "id": "e3473e75",
   "metadata": {},
   "outputs": [],
   "source": [
    "y_pred = model.predict(x_test)"
   ]
  },
  {
   "cell_type": "code",
   "execution_count": null,
   "id": "4c420c5d",
   "metadata": {},
   "outputs": [
    {
     "name": "stdout",
     "output_type": "stream",
     "text": [
      "              precision    recall  f1-score   support\n",
      "\n",
      "           0       0.79      0.86      0.82      7405\n",
      "           1       0.85      0.76      0.80      7359\n",
      "\n",
      "    accuracy                           0.81     14764\n",
      "   macro avg       0.82      0.81      0.81     14764\n",
      "weighted avg       0.82      0.81      0.81     14764\n",
      "\n"
     ]
    }
   ],
   "source": [
    "from sklearn.metrics import classification_report\n",
    "report = classification_report(y_test,y_pred)\n",
    "print(report)"
   ]
  },
  {
   "cell_type": "code",
   "execution_count": null,
   "id": "a1bcf303",
   "metadata": {},
   "outputs": [],
   "source": []
  }
 ],
 "metadata": {
  "kernelspec": {
   "display_name": "Python 3",
   "language": "python",
   "name": "python3"
  },
  "language_info": {
   "codemirror_mode": {
    "name": "ipython",
    "version": 3
   },
   "file_extension": ".py",
   "mimetype": "text/x-python",
   "name": "python",
   "nbconvert_exporter": "python",
   "pygments_lexer": "ipython3",
   "version": "3.12.6"
  }
 },
 "nbformat": 4,
 "nbformat_minor": 5
}
